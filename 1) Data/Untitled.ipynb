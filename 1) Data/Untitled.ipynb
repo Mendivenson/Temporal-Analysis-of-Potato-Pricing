{
 "cells": [
  {
   "cell_type": "markdown",
   "id": "a7c6f33d-d644-4d9d-bee1-bdd92dea683d",
   "metadata": {},
   "source": [
    "| Categoría             | Palabra 1       | Palabra 2      | Palabra 3     | Palabra 4     | Palabra 5       | Palabra 6     | Palabra 7    | Palabra 8   | Palabra 9      | Palabra 10      |\n",
    "|-----------------------|-----------------|----------------|---------------|---------------|-----------------|---------------|--------------|-------------|----------------|-----------------|\n",
    "| Film & Animation      | song (44)       | trailer (43)   | movie (34)    | person (32)   | insurance (24)  | pay (20)      | music (19)   | time (17)   | health (16)    | american (15)   |\n",
    "| Autos & Vehicles      | car (83)        | sound (57)     | house (37)    | 😂 (35)       | video (35)      | loss (34)     | god (33)     | ev (29)     | laughing (29)  | feel (25)       |\n",
    "| Music                 | ❤️ (327)       | 🔥 (181)      | 😂 (150)     | 😭 (80)      | peso (62)       | bro (53)      | 🙏 (49)     | love (46)   | song (44)      | music (43)      |\n",
    "| Pets & Animals        | 😂 (66)        | ❤️ (27)      | video (24)    | collab (17)   | it’ (17)        | love (16)     | crow (15)    | deer (14)   | hunt (14)      | 🤣 (13)         |\n",
    "| Sports                | 😂 (98)        | embiid (38)    | coach (37)    | jokic (35)    | game (33)       | player (31)   | team (26)    | it’ (24)    | comment (21)   | head (21)       |\n",
    "| Gaming                | game (218)      | 😂 (49)      | bot (47)      | astro (42)    | time (41)       | ring (38)     | elden (36)   | play (36)   | video (33)     | dlc (31)        |\n",
    "| People & Blogs        | ❤️ (93)        | love (68)     | video (45)    | 😂 (30)      | 😭 (30)         | camera (28)   | i’m (26)     | day (23)    | friend (20)    | it’ (20)        |\n",
    "| Comedy                | 😂 (45)        | song (43)     | person (41)   | healthcare (23)| 😡 (21)       | time (21)     | trump (21)   | music (19)  | comment (17)   | industry (15)   |\n",
    "| Entertainment         | trailer (43)    | movie (22)    | zombie (8)    | art (7)       | lost (7)        | spoiled (6)   | murphy (5)   | spoil (5)   | time (5)       | trilogy (5)     |\n",
    "| News & Politics       | person (308)    | 😂 (200)     | trump (154)   | tax (148)     | insurance (118) | healthcare (117) | war (113) | american (101) | country (100)  | pay (93)        |\n",
    "| Howto & Style         | friend (36)     | ❤️ (26)     | 😂 (24)     | message (22)  | tree (18)       | loss (16)     | passed (16)  | account (15)| died (15)      | gun (15)        |\n",
    "| Science & Technology  | ai (154)        | video (150)   | 😂 (82)      | quantum (78)  | person (76)     | disc (54)     | time (49)    | laughing (48)| company (46)   | password (45)   |\n",
    "| Nonprofits & Activism | 👌 (22)         | india (17)    | beast (15)    | indian (15)   | ❤️ (12)        | 👉 (11)      | person (11)  | american (9)| forgive (8)    | love (8)        |\n"
   ]
  },
  {
   "cell_type": "code",
   "execution_count": null,
   "id": "e0bd991c-ddae-438c-92df-3cb87368d87d",
   "metadata": {},
   "outputs": [],
   "source": []
  }
 ],
 "metadata": {
  "kernelspec": {
   "display_name": "R",
   "language": "R",
   "name": "ir"
  },
  "language_info": {
   "codemirror_mode": "r",
   "file_extension": ".r",
   "mimetype": "text/x-r-source",
   "name": "R",
   "pygments_lexer": "r",
   "version": "4.4.2"
  }
 },
 "nbformat": 4,
 "nbformat_minor": 5
}
